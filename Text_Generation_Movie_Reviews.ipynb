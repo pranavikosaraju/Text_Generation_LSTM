{
  "nbformat": 4,
  "nbformat_minor": 0,
  "metadata": {
    "colab": {
      "name": "Text_Generation_Movie_Reviews.ipynb",
      "provenance": []
    },
    "kernelspec": {
      "name": "python3",
      "display_name": "Python 3"
    },
    "language_info": {
      "name": "python"
    },
    "accelerator": "GPU"
  },
  "cells": [
    {
      "cell_type": "code",
      "execution_count": 1,
      "metadata": {
        "id": "fXke3dqfIkQA"
      },
      "outputs": [],
      "source": [
        "import re\n",
        "import pickle \n",
        "import random\n",
        "import numpy as np\n",
        "import pandas as pd\n",
        "import torch\n",
        "import torch.nn as nn\n",
        "import torch.nn.functional as F\n",
        "from torch.utils.data import TensorDataset , DataLoader"
      ]
    },
    {
      "cell_type": "code",
      "source": [
        "pickle_file = open(\"/content/plots_text.pickle\",'rb')"
      ],
      "metadata": {
        "id": "AQXjGtD0Ir_S"
      },
      "execution_count": 2,
      "outputs": []
    },
    {
      "cell_type": "code",
      "source": [
        "movie_file = pickle.load(pickle_file)"
      ],
      "metadata": {
        "id": "_keUrW4II9Bx"
      },
      "execution_count": 3,
      "outputs": []
    },
    {
      "cell_type": "code",
      "source": [
        "movie_file[0]"
      ],
      "metadata": {
        "colab": {
          "base_uri": "https://localhost:8080/",
          "height": 160
        },
        "id": "YqAaG6dhJGqH",
        "outputId": "bda26e78-d163-4749-d1b5-d2e2a4d0d7d0"
      },
      "execution_count": 4,
      "outputs": [
        {
          "output_type": "execute_result",
          "data": {
            "text/plain": [
              "'barry is a private with the 101st airborne division of the united states army, stationed at fort campbell, kentucky. calpernia works as a showgirl at a transgender revue in nashville, tennessee when the two met in 1999. barry\\'s roommate justin fisher  brings barry to the club where she performs. when barry and calpernia begin seeing each other regularly, fisher begins spreading rumors on base about their relationship, which appeared to be a violation of the military\\'s \"don\\'t ask, don\\'t tell\" policy about discussing the sexual orientation of military personnel. barry faces increasing harassment and pressure, which explode into violence over fourth of july weekend. while calpernia performs in a pageant in nashville, barry is beaten to death in his sleep with a baseball bat by calvin glover, who had been goaded by fisher into committing the crime. the film ends with a discussion of the aftermath.'"
            ],
            "application/vnd.google.colaboratory.intrinsic+json": {
              "type": "string"
            }
          },
          "metadata": {},
          "execution_count": 4
        }
      ]
    },
    {
      "cell_type": "code",
      "source": [
        "len(movie_file)"
      ],
      "metadata": {
        "colab": {
          "base_uri": "https://localhost:8080/"
        },
        "id": "G1EOfIBLJUOK",
        "outputId": "64963e1e-2691-4cb9-d38d-6366909d0d2d"
      },
      "execution_count": 5,
      "outputs": [
        {
          "output_type": "execute_result",
          "data": {
            "text/plain": [
              "500"
            ]
          },
          "metadata": {},
          "execution_count": 5
        }
      ]
    },
    {
      "cell_type": "code",
      "source": [
        "clean_data = [re.sub(\"[^a-z 0-9]\",\"\",i) for i in movie_file]"
      ],
      "metadata": {
        "id": "FnvB3Q__JWMh"
      },
      "execution_count": 6,
      "outputs": []
    },
    {
      "cell_type": "code",
      "source": [
        "clean_data[0]"
      ],
      "metadata": {
        "colab": {
          "base_uri": "https://localhost:8080/",
          "height": 160
        },
        "id": "ky5eXbDsJuYU",
        "outputId": "51daf281-f879-4622-92f0-2e105229e28f"
      },
      "execution_count": 7,
      "outputs": [
        {
          "output_type": "execute_result",
          "data": {
            "text/plain": [
              "'barry is a private with the 101st airborne division of the united states army stationed at fort campbell kentucky calpernia works as a showgirl at a transgender revue in nashville tennessee when the two met in 1999 barrys roommate justin fisher  brings barry to the club where she performs when barry and calpernia begin seeing each other regularly fisher begins spreading rumors on base about their relationship which appeared to be a violation of the militarys dont ask dont tell policy about discussing the sexual orientation of military personnel barry faces increasing harassment and pressure which explode into violence over fourth of july weekend while calpernia performs in a pageant in nashville barry is beaten to death in his sleep with a baseball bat by calvin glover who had been goaded by fisher into committing the crime the film ends with a discussion of the aftermath'"
            ],
            "application/vnd.google.colaboratory.intrinsic+json": {
              "type": "string"
            }
          },
          "metadata": {},
          "execution_count": 7
        }
      ]
    },
    {
      "cell_type": "code",
      "source": [
        "#create sequence \n",
        "def create_seq(text,seq_len=8):\n",
        "\n",
        "  sequence = []\n",
        "\n",
        "  if len(text.split()) > seq_len:\n",
        "    for i in range(seq_len,len(text.split())): #(8,50)\n",
        "      #select the sequnece of tokens\n",
        "      seq = text.split()[i-seq_len:i+1] #(0-9,1-10,2-11,3-12,4-13)\n",
        "      sequence.append(\" \".join(seq))\n",
        "\n",
        "    return sequence\n",
        "\n",
        "\n",
        "  else:\n",
        "    return [text]"
      ],
      "metadata": {
        "id": "jqlu6jRvJw-O"
      },
      "execution_count": 8,
      "outputs": []
    },
    {
      "cell_type": "code",
      "source": [
        "seqs = [create_seq(i) for i in clean_data]"
      ],
      "metadata": {
        "id": "zGVwkHLVKjaR"
      },
      "execution_count": 9,
      "outputs": []
    },
    {
      "cell_type": "code",
      "source": [
        "#create seq into a single list\n",
        "\n",
        "seq_list = []\n",
        "\n",
        "for i in seqs:\n",
        "    for j in i:\n",
        "        seq_list.append(j)\n",
        "        "
      ],
      "metadata": {
        "id": "ye6t8xHBKz60"
      },
      "execution_count": 10,
      "outputs": []
    },
    {
      "cell_type": "code",
      "source": [
        "#Alternative methods\n",
        "\n",
        "# 1.seq_list = sum(seq,[])\n",
        "\n",
        "# 2.seq_list = [j for i in seq for j in i]"
      ],
      "metadata": {
        "id": "LB0IRy3xK8Rv"
      },
      "execution_count": 11,
      "outputs": []
    },
    {
      "cell_type": "code",
      "source": [
        "len(seq_list)"
      ],
      "metadata": {
        "colab": {
          "base_uri": "https://localhost:8080/"
        },
        "id": "OcAx1fU0LDJa",
        "outputId": "9652deb4-61cb-44af-a742-ce41aec13a74"
      },
      "execution_count": 12,
      "outputs": [
        {
          "output_type": "execute_result",
          "data": {
            "text/plain": [
              "151501"
            ]
          },
          "metadata": {},
          "execution_count": 12
        }
      ]
    },
    {
      "cell_type": "code",
      "source": [
        "#Create input and target sequence\n",
        "\n",
        "input_seq = []\n",
        "target_seq = []\n",
        "\n",
        "for i in seq_list:\n",
        "    input_seq.append(\" \".join(i.split()[:-1]))\n",
        "    target_seq.append(\" \".join(i.split()[1:]))"
      ],
      "metadata": {
        "id": "arik3uIoLFAE"
      },
      "execution_count": 13,
      "outputs": []
    },
    {
      "cell_type": "code",
      "source": [
        "unique_words = set(\" \".join(clean_data).split())\n",
        "len(unique_words)"
      ],
      "metadata": {
        "colab": {
          "base_uri": "https://localhost:8080/"
        },
        "id": "bnw67oNhLI7t",
        "outputId": "23355c4b-8378-4c86-c40b-ec537a1b5fa8"
      },
      "execution_count": 14,
      "outputs": [
        {
          "output_type": "execute_result",
          "data": {
            "text/plain": [
              "16531"
            ]
          },
          "metadata": {},
          "execution_count": 14
        }
      ]
    },
    {
      "cell_type": "code",
      "source": [
        "#Create int_to_word and word_to_int\n",
        "\n",
        "int_to_word = {index:word for index,word in enumerate(unique_words)}\n",
        "word_to_int = {word:index for index,word in int_to_word.items()}"
      ],
      "metadata": {
        "id": "ARv5rLSULZvs"
      },
      "execution_count": 15,
      "outputs": []
    },
    {
      "cell_type": "code",
      "source": [
        "vocab_size = len(int_to_word)"
      ],
      "metadata": {
        "id": "4Gg6nskPLcKp"
      },
      "execution_count": 16,
      "outputs": []
    },
    {
      "cell_type": "code",
      "source": [
        "def get_int_seq(seq):\n",
        "  return [word_to_int[w] for w in seq.split()]"
      ],
      "metadata": {
        "id": "h5XAyOUMLeOI"
      },
      "execution_count": 17,
      "outputs": []
    },
    {
      "cell_type": "code",
      "source": [
        "input_int_seq = [get_int_seq(i) for i in input_seq]\n",
        "target_int_seq = [get_int_seq(j) for j in target_seq]"
      ],
      "metadata": {
        "id": "SWJRQJQjLkXI"
      },
      "execution_count": 18,
      "outputs": []
    },
    {
      "cell_type": "code",
      "source": [
        "#converting above lists into numpy arrays\n",
        "\n",
        "input_array = np.array(input_int_seq)\n",
        "target_array = np.array(target_int_seq)"
      ],
      "metadata": {
        "id": "FxHzF77lLrRh"
      },
      "execution_count": 19,
      "outputs": []
    },
    {
      "cell_type": "code",
      "source": [
        "input_array[0]"
      ],
      "metadata": {
        "colab": {
          "base_uri": "https://localhost:8080/"
        },
        "id": "4qwEyABWMHXA",
        "outputId": "6b7a8354-7c0c-4ce3-f492-3c5c640b80d5"
      },
      "execution_count": 20,
      "outputs": [
        {
          "output_type": "execute_result",
          "data": {
            "text/plain": [
              "array([ 3789,  9566,   357, 14635,  8334, 12594, 16144,  8284])"
            ]
          },
          "metadata": {},
          "execution_count": 20
        }
      ]
    },
    {
      "cell_type": "code",
      "source": [
        "inputs = input_array\n",
        "targets = target_array"
      ],
      "metadata": {
        "id": "hkMaObJnMJ8I"
      },
      "execution_count": 21,
      "outputs": []
    },
    {
      "cell_type": "code",
      "source": [
        "#train & test validation\n",
        "\n",
        "train_ratio = 0.8\n",
        "valid_ratio = (1-train_ratio)/2\n",
        "\n",
        "total = len(input_array)\n",
        "\n",
        "train_cutoff = int(total*train_ratio)\n",
        "valid_cutoff = int((total*(1-valid_ratio))) #(50*(0.9)) 45\n",
        "\n",
        "#numpy to tensor\n",
        "train_x, train_y = torch.Tensor(inputs[:train_cutoff]).long() , torch.Tensor(targets[:train_cutoff]).long()\n",
        "valid_x , valid_y = torch.Tensor(inputs[train_cutoff:valid_cutoff]).long() , torch.Tensor(targets[train_cutoff:valid_cutoff]).long()\n",
        "test_x , test_y = torch.Tensor(inputs[valid_cutoff:]).long() , torch.Tensor(targets[valid_cutoff:]).long()\n",
        "\n",
        "\n",
        "train_data = TensorDataset(train_x,train_y)\n",
        "valid_data = TensorDataset(valid_x ,valid_y)\n",
        "test_data = TensorDataset(test_x,test_y)\n",
        "\n",
        "batch_size = 32\n",
        "\n",
        "\n",
        "train_loader = DataLoader(train_data,batch_size = batch_size,shuffle=True,drop_last=True)\n",
        "valid_loader = DataLoader(valid_data,batch_size = batch_size,shuffle=True,drop_last=True)\n",
        "test_loader = DataLoader(test_data,batch_size = batch_size,shuffle=True,drop_last=True)"
      ],
      "metadata": {
        "id": "NLm-B400MYUE"
      },
      "execution_count": 22,
      "outputs": []
    },
    {
      "cell_type": "code",
      "source": [
        "for x , y in train_loader:\n",
        "  print(x.shape,y.shape)\n",
        "  break"
      ],
      "metadata": {
        "colab": {
          "base_uri": "https://localhost:8080/"
        },
        "id": "FRS6s_Q9Ma86",
        "outputId": "37e89545-abd0-4a18-c480-b8e89724d740"
      },
      "execution_count": 23,
      "outputs": [
        {
          "output_type": "stream",
          "name": "stdout",
          "text": [
            "torch.Size([32, 8]) torch.Size([32, 8])\n"
          ]
        }
      ]
    },
    {
      "cell_type": "code",
      "source": [
        "class TextGenerationLSTM(nn.Module):\n",
        "\n",
        "  def __init__(self,n_vocab,n_embed,n_hidden,n_layers,drop_pr = 0.25):\n",
        "    super().__init__()\n",
        "    self.n_vocab = n_vocab\n",
        "    self.n_embed = n_embed\n",
        "    self.n_hidden = n_hidden \n",
        "    self.drop_pr = drop_pr \n",
        "    self.n_layers = n_layers\n",
        "\n",
        "    self.embedding = nn.Embedding(n_vocab,n_embed)\n",
        "    self.lstm = nn.LSTM(n_embed,n_hidden,n_layers,batch_first = True)\n",
        "    self.dropout = nn.Dropout(drop_pr)\n",
        "    self.fc = nn.Linear(n_hidden,n_vocab)\n",
        "\n",
        "  #(input , (hidden_state & cell state))\n",
        "  def forward(self,x,hidden):\n",
        "    \n",
        "    #pass the input through embedding layers\n",
        "    embedded = self.embedding(x)\n",
        "\n",
        "    #Get the output and new hidden state and cell state\n",
        "    n_out , hidden = self.lstm(embedded,hidden) #(lstm) (input,(hidden_state,cell_state)) \n",
        "\n",
        "    #pass the droupout\n",
        "    out = self.dropout(n_out)\n",
        "\n",
        "    #reshape\n",
        "    #out = out.contingous().view(-1,self.n_hidden)\n",
        "    out = out.reshape(-1,self.n_hidden)\n",
        "\n",
        "    out = self.fc(out)\n",
        "\n",
        "    return out,hidden\n",
        "\n",
        "\n",
        "  def init_hidden(self,batch_size):\n",
        "\n",
        "    '''initialize the hidden and cell state with size (n_layers * batch_size * n_hidden) ,\n",
        "    initialize to zero for both hidden and cell state of LSTM model '''\n",
        "\n",
        "    #hidden layer = Total no of neurons in hidden state (hidden_state value)\n",
        "\n",
        "    # LSTM (hidden state and cell state) (hidden state , cell (memory))\n",
        "    #120 neurons state ()\n",
        "\n",
        "    weights = next(self.parameters()).data\n",
        "\n",
        "    if (torch.cuda.is_available()):\n",
        "      hidden = (weights.new(self.n_layers , batch_size,self.n_hidden).zero_().cuda(),\n",
        "         weights.new(self.n_layers,batch_size,self.n_hidden).zero_().cuda())\n",
        "\n",
        "    else:\n",
        "      hidden = (weights.new(self.n_layers , batch_size,self.n_hidden).zero_(),\n",
        "         weights.new(self.n_layers,batch_size,self.n_hidden).zero_())\n",
        "      \n",
        "    return hidden"
      ],
      "metadata": {
        "id": "GolI4B9IMeT6"
      },
      "execution_count": 24,
      "outputs": []
    },
    {
      "cell_type": "code",
      "source": [
        "#n_vocab,n_embed,n_hidden,n_layers,drop_pr = 0.25\n",
        "n_vocab = len(int_to_word)\n",
        "n_embed = 200\n",
        "n_layers = 3\n",
        "n_hidden = 128\n",
        "\n",
        "net = TextGenerationLSTM(n_vocab,n_embed,n_hidden,n_layers,drop_pr = 0.25)"
      ],
      "metadata": {
        "id": "EbWCGOQPMhaO"
      },
      "execution_count": 25,
      "outputs": []
    },
    {
      "cell_type": "code",
      "source": [
        "net\n",
        "net.cuda()"
      ],
      "metadata": {
        "colab": {
          "base_uri": "https://localhost:8080/"
        },
        "id": "RIAa5CpbMkz6",
        "outputId": "d4255c6b-c682-4855-be2b-3eeaf0e4faed"
      },
      "execution_count": 26,
      "outputs": [
        {
          "output_type": "execute_result",
          "data": {
            "text/plain": [
              "TextGenerationLSTM(\n",
              "  (embedding): Embedding(16531, 200)\n",
              "  (lstm): LSTM(200, 128, num_layers=3, batch_first=True)\n",
              "  (dropout): Dropout(p=0.25, inplace=False)\n",
              "  (fc): Linear(in_features=128, out_features=16531, bias=True)\n",
              ")"
            ]
          },
          "metadata": {},
          "execution_count": 26
        }
      ]
    },
    {
      "cell_type": "code",
      "source": [
        "optimizer = torch.optim.Adam(net.parameters(),lr=0.001)\n",
        "loss_fn = nn.CrossEntropyLoss()"
      ],
      "metadata": {
        "id": "pSUJXiHIMyIY"
      },
      "execution_count": 27,
      "outputs": []
    },
    {
      "cell_type": "code",
      "source": [
        "def acc(pred,label):\n",
        "  pred = torch.round(pred)\n",
        "  return torch.sum(pred==label).item()"
      ],
      "metadata": {
        "id": "Y0o4aAmqNQL1"
      },
      "execution_count": 28,
      "outputs": []
    },
    {
      "cell_type": "code",
      "source": [
        "def train_sentiment(net,loss_fn,optimizer,epochs=20):\n",
        "\n",
        "  for epoch in range(epochs):\n",
        "    h = net.init_hidden(batch_size=32)\n",
        "    #print(h[0].shape)\n",
        "    train_loss = 0.0\n",
        "    train_acc = 0.0\n",
        "    valid_loss = 0.0\n",
        "    valid_acc = 0.0\n",
        "\n",
        "\n",
        "    net.train()\n",
        "\n",
        "    for input,labels in train_loader:\n",
        "      h = tuple([i.data for i in h]) #tuple([hidden_state,cell_state])\n",
        "      input , labels = input.cuda() , labels.cuda()\n",
        "      #print(h[0].shape)\n",
        "      # print(input.shape,labels.shape)\n",
        "     \n",
        "    \n",
        "      output,h = net(input,h)\n",
        "      optimizer.zero_grad()\n",
        "\n",
        "      loss = loss_fn(output,labels.view(-1))\n",
        "      loss.backward()\n",
        "      train_loss += loss.item()\n",
        "\n",
        "      # print(labels.shape)\n",
        "      #print(output.shape)\n",
        "      #accuracy = acc(output,labels.view(-1))\n",
        "      #train_acc += accuracy\n",
        "\n",
        "      optimizer.step()\n",
        "\n",
        "    net.eval()\n",
        "\n",
        "    for input,labels in valid_loader:\n",
        "      input , labels = input.cuda() , labels.cuda()\n",
        "      h = tuple([i.data for i in h]) #tuple([hidden_state,cell_state])\n",
        "      output,h = net(input,h)\n",
        "      \n",
        "\n",
        "      loss = loss_fn(output,labels.view(-1))\n",
        "      valid_loss += loss.item()\n",
        "\n",
        "      # accuracy = acc(output,labels)\n",
        "\n",
        "      # valid_acc += accuracy\n",
        "\n",
        "    print(\"Epoch {} , Train_loss : {:.2f},valid_loss : {:.2f}\".format(\n",
        "        epoch+1 , train_loss/len(test_loader),valid_loss/len(valid_loader)))"
      ],
      "metadata": {
        "id": "Ou_zjxqSNS9Y"
      },
      "execution_count": 29,
      "outputs": []
    },
    {
      "cell_type": "code",
      "source": [
        "train_sentiment(net,loss_fn,optimizer,epochs=20)"
      ],
      "metadata": {
        "colab": {
          "base_uri": "https://localhost:8080/"
        },
        "id": "Td3gHLv0NWwB",
        "outputId": "0ae827c4-bb28-4f11-efa3-a2b48121df1a"
      },
      "execution_count": 31,
      "outputs": [
        {
          "output_type": "stream",
          "name": "stdout",
          "text": [
            "Epoch 1 , Train_loss : 37.10,valid_loss : 9.51\n",
            "Epoch 2 , Train_loss : 34.94,valid_loss : 10.08\n",
            "Epoch 3 , Train_loss : 33.28,valid_loss : 10.52\n",
            "Epoch 4 , Train_loss : 31.93,valid_loss : 10.93\n",
            "Epoch 5 , Train_loss : 30.82,valid_loss : 11.25\n",
            "Epoch 6 , Train_loss : 29.88,valid_loss : 11.49\n",
            "Epoch 7 , Train_loss : 29.05,valid_loss : 11.74\n",
            "Epoch 8 , Train_loss : 28.31,valid_loss : 12.01\n",
            "Epoch 9 , Train_loss : 27.64,valid_loss : 12.20\n",
            "Epoch 10 , Train_loss : 27.02,valid_loss : 12.38\n",
            "Epoch 11 , Train_loss : 26.49,valid_loss : 12.57\n",
            "Epoch 12 , Train_loss : 26.00,valid_loss : 12.70\n",
            "Epoch 13 , Train_loss : 25.55,valid_loss : 12.91\n",
            "Epoch 14 , Train_loss : 25.14,valid_loss : 13.03\n",
            "Epoch 15 , Train_loss : 24.77,valid_loss : 13.15\n",
            "Epoch 16 , Train_loss : 24.41,valid_loss : 13.25\n",
            "Epoch 17 , Train_loss : 24.08,valid_loss : 13.37\n",
            "Epoch 18 , Train_loss : 23.77,valid_loss : 13.52\n",
            "Epoch 19 , Train_loss : 23.48,valid_loss : 13.63\n",
            "Epoch 20 , Train_loss : 23.20,valid_loss : 13.74\n"
          ]
        }
      ]
    },
    {
      "cell_type": "code",
      "source": [
        "def predict(net,tkn,h = None):\n",
        "\n",
        "  # tensor inputs\n",
        "  # net.cuda()\n",
        "  # net.eval()\n",
        "  # h = net.init_hidden(1)\n",
        "\n",
        "  x = np.array([[word_to_int[tkn]]])\n",
        "  inputs = torch.from_numpy(x)\n",
        "\n",
        "  # To gpu\n",
        "  inputs = inputs.cuda()\n",
        "\n",
        "  # detech hidden & cell state \n",
        "  h = tuple([i.data for i in h])\n",
        "\n",
        "  # get the output of the model\n",
        "  out , h = net(inputs,h)\n",
        "\n",
        "  # get the token proba\n",
        "  p = F.softmax(out,dim=1).data # cuda\n",
        "\n",
        "  p = p.cpu()\n",
        "  p = p.numpy()\n",
        "\n",
        "  p = p.reshape(p.shape[1],)\n",
        "\n",
        "  #get indices of next or top 3 values\n",
        "  top_n_indx = p.argsort()[-1:][::-1][0]\n",
        "\n",
        "  #random selct one of the two indecies \n",
        "\n",
        "  return int_to_word[top_n_indx] , h"
      ],
      "metadata": {
        "id": "rI4GLuvWNZNv"
      },
      "execution_count": 38,
      "outputs": []
    },
    {
      "cell_type": "code",
      "source": [
        "#function generate text\n",
        "def sample(net,size,prime=\"it is good\"):\n",
        "\n",
        "  # To GPU\n",
        "  net.cuda()\n",
        "\n",
        "  net.eval()\n",
        "\n",
        "  #batch size as 1\n",
        "  h = net.init_hidden(1)\n",
        "\n",
        "  tokens = prime.split() # [\"it\",\"is\",\"good\"]\n",
        "\n",
        "  #predict next token\n",
        "  for t in tokens:\n",
        "    token , h = predict(net,t.lower(),h)\n",
        "\n",
        "  tokens.append(token)\n",
        "\n",
        "  #predict subseuit toekns\n",
        "  for i in range(size):\n",
        "    token , h  = predict(net,tokens[-1],h)\n",
        "    tokens.append(token)\n",
        "\n",
        "  return \" \".join(tokens)"
      ],
      "metadata": {
        "id": "9v7Dz8YUugdP"
      },
      "execution_count": 39,
      "outputs": []
    },
    {
      "cell_type": "code",
      "source": [
        "sample(net,100,\"we have to find the\")"
      ],
      "metadata": {
        "colab": {
          "base_uri": "https://localhost:8080/",
          "height": 107
        },
        "id": "o3I-uCM9ujYu",
        "outputId": "07ac37d5-9aa6-4033-8f03-ff26afefc1ed"
      },
      "execution_count": 40,
      "outputs": [
        {
          "output_type": "execute_result",
          "data": {
            "text/plain": [
              "'we have to find the sword of justice and the two men back to the campfire that he will not be a violation of the militarys dont make a tooth while on the way to the park and tells him that she has been in love with her but lacks the confidence or social skills to get a chemical substance that julie developed that he is in love with her but lacks the confidence or social skills to get a chemical substance that julie developed that he is in love with her but lacks the confidence or social skills to get a chemical substance that julie'"
            ],
            "application/vnd.google.colaboratory.intrinsic+json": {
              "type": "string"
            }
          },
          "metadata": {},
          "execution_count": 40
        }
      ]
    },
    {
      "cell_type": "code",
      "source": [
        "sample(net,50,\"calvin glover who\")"
      ],
      "metadata": {
        "colab": {
          "base_uri": "https://localhost:8080/",
          "height": 71
        },
        "id": "m1nlDKj1ulrN",
        "outputId": "5ed53bcb-9fa5-4f33-d10b-8f60d84a1123"
      },
      "execution_count": 41,
      "outputs": [
        {
          "output_type": "execute_result",
          "data": {
            "text/plain": [
              "'calvin glover who had been a martial arts competition the two men chase chicago to the park and tells him that she has been in love with her but lacks the confidence or social skills to get a chemical substance that julie developed that he is in love with her but lacks the confidence'"
            ],
            "application/vnd.google.colaboratory.intrinsic+json": {
              "type": "string"
            }
          },
          "metadata": {},
          "execution_count": 41
        }
      ]
    },
    {
      "cell_type": "code",
      "source": [
        ""
      ],
      "metadata": {
        "id": "XZlJXFjOv5Hq"
      },
      "execution_count": null,
      "outputs": []
    }
  ]
}